{
 "cells": [
  {
   "cell_type": "code",
   "execution_count": 1,
   "metadata": {},
   "outputs": [],
   "source": [
    "import numpy as np\n",
    "import pandas as pd\n",
    "import matplotlib.pyplot as plt\n",
    "from tqdm import tqdm\n",
    "from scipy.stats import skew, kurtosis\n",
    "from scipy.ndimage.filters import gaussian_filter\n",
    "from scipy.stats import linregress\n",
    "from scipy.optimize import curve_fit\n",
    "from sklearn.neighbors import KernelDensity\n",
    "\n",
    "from data_manager import DataManager\n",
    "import transport_signal_processing as tsp"
   ]
  },
  {
   "cell_type": "code",
   "execution_count": 2,
   "metadata": {},
   "outputs": [],
   "source": [
    "import matplotlib\n",
    "\n",
    "font = {'family': 'Arial',\n",
    "        'size': 16}\n",
    "matplotlib.rc('font', **font)"
   ]
  },
  {
   "cell_type": "code",
   "execution_count": 3,
   "metadata": {},
   "outputs": [
    {
     "data": {
      "text/html": [
       "<style>.container { width:77% !important; }</style>"
      ],
      "text/plain": [
       "<IPython.core.display.HTML object>"
      ]
     },
     "metadata": {},
     "output_type": "display_data"
    }
   ],
   "source": [
    "from IPython.core.display import display, HTML\n",
    "display(HTML(\"<style>.container { width:77% !important; }</style>\"))"
   ]
  },
  {
   "cell_type": "markdown",
   "metadata": {},
   "source": [
    "## Load data"
   ]
  },
  {
   "cell_type": "code",
   "execution_count": 4,
   "metadata": {},
   "outputs": [
    {
     "data": {
      "text/plain": [
       "array(['100', '110', '120', '130', '80', '90'], dtype=object)"
      ]
     },
     "execution_count": 4,
     "metadata": {},
     "output_type": "execute_result"
    }
   ],
   "source": [
    "# parameters\n",
    "path = \"*\"\n",
    "#re_sel = \"20210330-wt-aSyn-company|20201009-oM127-company|20201005-o2M127-Company\"\n",
    "#re_sel = \"20191208-wt|20191208-pY125|20191212-pY125pS129|20191208-pS129|20191211-nY125|20191212-nY136|20191210-N3|20210329-nY125pS129\"\n",
    "#re_sel = \"20191210-N3|20210329-nY125pS129\"\n",
    "#re_sel = \"20212206-asynTCEP|20210306-aSyn124-140-TCEP\"\n",
    "#re_sel = \"100\"\n",
    "#key_sel = \"polymer_name\"\n",
    "key_sel = \"voltage\"\n",
    "re_sel = \"\"\n",
    "#key_sel = \"temperature\"\n",
    "level = 1\n",
    "selected_only = True\n",
    "\n",
    "# setup database connector\n",
    "sigman = DataManager('database')\n",
    "\n",
    "# load segments informations\n",
    "sinfo_l = sigman.load_info(path, 's*')\n",
    "\n",
    "# convert info to dataframe\n",
    "df = pd.DataFrame(sinfo_l)\n",
    "\n",
    "# keep only key in dataframe and signal info\n",
    "df = df[df[key_sel].str.match(re_sel) & (df['selected'] > (level-1))]\n",
    "sinfo_l = [sinfo_l[i] for i in df.index.values]\n",
    "df = df.reset_index(drop=True)\n",
    "\n",
    "# set unique instance id\n",
    "df['iid'] = np.unique(df[key_sel], return_inverse=True)[1]\n",
    "\n",
    "# debug print\n",
    "key_sels = np.unique(df[key_sel].values)\n",
    "key_sels"
   ]
  },
  {
   "cell_type": "raw",
   "metadata": {},
   "source": [
    "# get measurements info\n",
    "minfo_l = sigman.load_info(path, 'm*')\n",
    "mdf = pd.DataFrame(minfo_l)\n",
    "\n",
    "# merge with segments info\n",
    "dfs = df.merge(mdf.drop('MODIFIED', axis=1), on=['channel', 'id', 'polymer_name', 'pore', 'temperature', 'voltage']).drop(['MODIFIED', 'channel', 'temperature', 'ratio_sel', 'N_reduced', 'N_cores', 'dt'], axis=1)"
   ]
  },
  {
   "cell_type": "code",
   "execution_count": 5,
   "metadata": {},
   "outputs": [
    {
     "name": "stdout",
     "output_type": "stream",
     "text": [
      "(859825,)\n",
      "(859825, 5)\n"
     ]
    }
   ],
   "source": [
    "# load statistics of all events\n",
    "ids = []\n",
    "stats = []\n",
    "for i in range(len(sinfo_l)):\n",
    "    sinfo = sinfo_l[i]\n",
    "    curr_path = sigman.define_db_path(sinfo)\n",
    "    \n",
    "    s_l = sigman.load_data(curr_path, 's{}-stats'.format(sinfo['sid']))\n",
    "    if len(s_l) > 0:\n",
    "        s = s_l[0]\n",
    "        m = sigman.load_data(curr_path, 's{}-selected'.format(sinfo['sid']))[0].astype(bool)\n",
    "        if selected_only:\n",
    "            s = s[m]\n",
    "\n",
    "        ids.append(df['iid'].values[i] * np.ones(s.shape[0], dtype=int))\n",
    "        # rescale mean and standard deviation based on open pore stats\n",
    "        s[:,1] = 100.0 * s[:,1] / sinfo['mI_open']\n",
    "        s[:,2] = s[:,2] / sinfo['sI_open']\n",
    "        #s[:,2] = 100.0 * s[:,2] / sinfo['mI_open']\n",
    "        stats.append(s)\n",
    "        \n",
    "ids_stats = np.concatenate(ids)\n",
    "stats = np.concatenate(stats)\n",
    "\n",
    "# rescale dwell time s -> ms\n",
    "stats[:,0] = stats[:,0] * 1e3\n",
    "\n",
    "# load find reduced stats for each selected cases\n",
    "stats_dict = {}\n",
    "for pn in key_sels:\n",
    "    df_pn = df[df[key_sel] == pn]\n",
    "    \n",
    "    m = np.zeros(ids_stats.shape, dtype=bool)\n",
    "    for i in np.unique(df_pn['iid']):\n",
    "        if i in ids_stats:\n",
    "            m = (m | (ids_stats == i))\n",
    "    \n",
    "    stats_dict[pn] = stats[m]\n",
    "\n",
    "# debug print\n",
    "print(ids_stats.shape)\n",
    "print(stats.shape)"
   ]
  },
  {
   "cell_type": "code",
   "execution_count": 6,
   "metadata": {},
   "outputs": [],
   "source": [
    "# parameters\n",
    "dwt_lim = (0.1, 1000.0)\n",
    "mI_lim = (0.0, 95.0)\n",
    "\n",
    "# for all selected key\n",
    "for pn in key_sels:\n",
    "    # dwt mask\n",
    "    m_dwt = (stats_dict[pn][:,0] >= dwt_lim[0]) & (stats_dict[pn][:,0] <= dwt_lim[1])\n",
    "    # mI mask\n",
    "    m_mI = (stats_dict[pn][:,1] >= mI_lim[0]) & (stats_dict[pn][:,1] <= mI_lim[1])\n",
    "    # mask\n",
    "    m = m_dwt & m_mI\n",
    "    \n",
    "    # filter data\n",
    "    stats_dict[pn] = stats_dict[pn][m]"
   ]
  },
  {
   "cell_type": "markdown",
   "metadata": {},
   "source": [
    "## Contour plot"
   ]
  },
  {
   "cell_type": "code",
   "execution_count": 7,
   "metadata": {},
   "outputs": [
    {
     "name": "stderr",
     "output_type": "stream",
     "text": [
      "findfont: Font family ['Arial'] not found. Falling back to DejaVu Sans.\n",
      "findfont: Font family ['Arial'] not found. Falling back to DejaVu Sans.\n"
     ]
    },
    {
     "data": {
      "image/png": "[encoded data removed]",
      "text/plain": [
       "<Figure size 504x288 with 1 Axes>"
      ]
     },
     "metadata": {
      "needs_background": "light"
     },
     "output_type": "display_data"
    },
    {
     "data": {
      "image/png": "[encoded data removed]",
      "text/plain": [
       "<Figure size 504x288 with 1 Axes>"
      ]
     },
     "metadata": {
      "needs_background": "light"
     },
     "output_type": "display_data"
    },
    {
     "data": {
      "image/png": "[encoded data removed]",
      "text/plain": [
       "<Figure size 504x288 with 1 Axes>"
      ]
     },
     "metadata": {
      "needs_background": "light"
     },
     "output_type": "display_data"
    },
    {
     "data": {
      "image/png": "[encoded data removed]",
      "text/plain": [
       "<Figure size 504x288 with 1 Axes>"
      ]
     },
     "metadata": {
      "needs_background": "light"
     },
     "output_type": "display_data"
    },
    {
     "data": {
      "image/png": "[encoded data removed]",
      "text/plain": [
       "<Figure size 504x288 with 1 Axes>"
      ]
     },
     "metadata": {
      "needs_background": "light"
     },
     "output_type": "display_data"
    },
    {
     "data": {
      "image/png": "[encoded data removed]",
      "text/plain": [
       "<Figure size 504x288 with 1 Axes>"
      ]
     },
     "metadata": {
      "needs_background": "light"
     },
     "output_type": "display_data"
    },
    {
     "data": {
      "text/html": [
       "<div>\n",
       "<style scoped>\n",
       "    .dataframe tbody tr th:only-of-type {\n",
       "        vertical-align: middle;\n",
       "    }\n",
       "\n",
       "    .dataframe tbody tr th {\n",
       "        vertical-align: top;\n",
       "    }\n",
       "\n",
       "    .dataframe thead th {\n",
       "        text-align: right;\n",
       "    }\n",
       "</style>\n",
       "<table border=\"1\" class=\"dataframe\">\n",
       "  <thead>\n",
       "    <tr style=\"text-align: right;\">\n",
       "      <th></th>\n",
       "      <th>0</th>\n",
       "      <th>100</th>\n",
       "      <th>110</th>\n",
       "      <th>120</th>\n",
       "      <th>130</th>\n",
       "      <th>80</th>\n",
       "      <th>90</th>\n",
       "    </tr>\n",
       "  </thead>\n",
       "  <tbody>\n",
       "    <tr>\n",
       "      <th>0</th>\n",
       "      <td>Mean average relative current</td>\n",
       "      <td>34.586014</td>\n",
       "      <td>47.058010</td>\n",
       "      <td>33.716296</td>\n",
       "      <td>47.692022</td>\n",
       "      <td>23.864034</td>\n",
       "      <td>45.500256</td>\n",
       "    </tr>\n",
       "    <tr>\n",
       "      <th>1</th>\n",
       "      <td>Std average relative current</td>\n",
       "      <td>9.535748</td>\n",
       "      <td>2.655599</td>\n",
       "      <td>8.969929</td>\n",
       "      <td>4.788509</td>\n",
       "      <td>5.354858</td>\n",
       "      <td>3.002184</td>\n",
       "    </tr>\n",
       "    <tr>\n",
       "      <th>2</th>\n",
       "      <td>Mean dwell time</td>\n",
       "      <td>0.224910</td>\n",
       "      <td>0.334103</td>\n",
       "      <td>0.014011</td>\n",
       "      <td>0.051416</td>\n",
       "      <td>0.193926</td>\n",
       "      <td>0.432142</td>\n",
       "    </tr>\n",
       "    <tr>\n",
       "      <th>3</th>\n",
       "      <td>Std dwell time</td>\n",
       "      <td>0.509186</td>\n",
       "      <td>0.411758</td>\n",
       "      <td>0.300394</td>\n",
       "      <td>0.285276</td>\n",
       "      <td>0.380366</td>\n",
       "      <td>0.463889</td>\n",
       "    </tr>\n",
       "  </tbody>\n",
       "</table>\n",
       "</div>"
      ],
      "text/plain": [
       "                               0        100        110        120        130  \\\n",
       "0  Mean average relative current  34.586014  47.058010  33.716296  47.692022   \n",
       "1   Std average relative current   9.535748   2.655599   8.969929   4.788509   \n",
       "2                Mean dwell time   0.224910   0.334103   0.014011   0.051416   \n",
       "3                 Std dwell time   0.509186   0.411758   0.300394   0.285276   \n",
       "\n",
       "          80         90  \n",
       "0  23.864034  45.500256  \n",
       "1   5.354858   3.002184  \n",
       "2   0.193926   0.432142  \n",
       "3   0.380366   0.463889  "
      ]
     },
     "metadata": {},
     "output_type": "display_data"
    }
   ],
   "source": [
    "#### parameters\n",
    "N = (100,100)\n",
    "#xlim = (2.5, 22.5)\n",
    "xlim = (0, 80)\n",
    "ylim = (np.log10(0.1), np.log10(100000))\n",
    "\n",
    "table = ['Mean average relative current','Std average relative current','Mean dwell time','Std dwell time']\n",
    "tb = pd.DataFrame(table)\n",
    "for pn in key_sels:\n",
    "    # setup data\n",
    "    x = stats_dict[pn][:,1].copy()\n",
    "    y = np.log10(stats_dict[pn][:,0].copy())\n",
    "    X = np.stack([x,y], axis=1)\n",
    "    \n",
    "    # kde\n",
    "    kde = KernelDensity(bandwidth=0.25)\n",
    "    kde.fit(X)\n",
    "    \n",
    "    # meshgrid\n",
    "    xi = np.linspace(xlim[0], xlim[1], N[0])\n",
    "    yi = np.linspace(ylim[0], ylim[1], N[1])\n",
    "    Xi, Yi = np.meshgrid(xi, yi, indexing='ij')\n",
    "    \n",
    "    # apply kde\n",
    "    Z = np.exp(kde.score_samples(np.stack([Xi.ravel(), Yi.ravel()], axis=1)).reshape(N))\n",
    "    \n",
    "    # make log ticks\n",
    "    yticks = np.concatenate([np.linspace(0.1, 1.0, 10), np.linspace(2.0, 10.0, 9), np.linspace(20.0, 100.0, 9)])\n",
    "    yticks_labels = []\n",
    "    for t in yticks:\n",
    "        if t in [0.1, 1.0, 10.0, 100.0]:\n",
    "            yticks_labels.append(str(t))\n",
    "        else:\n",
    "            yticks_labels.append('')\n",
    "            \n",
    "    # plot\n",
    "    plt.figure(figsize=(7,4))\n",
    "    plt.contour(Xi, Yi, Z*x.shape[0], 7, cmap='nipy_spectral')\n",
    "    #plt.contourf(Xi, Yi, Z*x.shape[0], 33, cmap='gist_earth_r')\n",
    "    plt.yticks(np.log10(yticks), yticks_labels)\n",
    "    #plt.colorbar()\n",
    "    plt.ylim(ylim)\n",
    "    plt.ylabel('dwell time [ms]')\n",
    "    plt.xlabel('average relative current [%]')\n",
    "    plt.title(pn)\n",
    "    plt.tight_layout()\n",
    "    #plt.savefig('graphs/{}_contour.pdf'.format(pn), dpi=300)\n",
    "    #plt.savefig('graphs/company-o/{}_contour.pdf'.format(pn), dpi=300)\n",
    "    plt.show()\n",
    "    \n",
    "    # pack data\n",
    "    tb[pn] = [np.mean(x),np.std(x),np.mean(y),np.std(y)]\n",
    "    #table = {\n",
    "    #f\"mean average relative current = {np.mean(x):.2f}\",\n",
    "    #f\"std average relative current = {np.std(x):.2f}\",\n",
    "    #f\"mean dwell time = {np.mean(y):.2f}\",\n",
    "    #f\"std dwell time = {np.std(y):.2f}\"\n",
    "    #      }\n",
    "    pass\n",
    "pass\n",
    "    # create dataframe\n",
    "    #tb = pd.DataFrame(table)\n",
    "    \n",
    "    # debug display\n",
    "display(tb)"
   ]
  },
  {
   "cell_type": "code",
   "execution_count": 8,
   "metadata": {},
   "outputs": [
    {
     "name": "stderr",
     "output_type": "stream",
     "text": [
      " 14%|█▍        | 1379/10000 [00:10<01:04, 133.05it/s]\n"
     ]
    },
    {
     "ename": "KeyboardInterrupt",
     "evalue": "",
     "output_type": "error",
     "traceback": [
      "\u001b[0;31m---------------------------------------------------------------------------\u001b[0m",
      "\u001b[0;31mKeyboardInterrupt\u001b[0m                         Traceback (most recent call last)",
      "\u001b[0;32m<ipython-input-8-d011f77a5ed6>\u001b[0m in \u001b[0;36m<module>\u001b[0;34m\u001b[0m\n\u001b[1;32m     16\u001b[0m \u001b[0;34m\u001b[0m\u001b[0m\n\u001b[1;32m     17\u001b[0m     \u001b[0;32mfor\u001b[0m \u001b[0mi\u001b[0m \u001b[0;32min\u001b[0m \u001b[0mtqdm\u001b[0m\u001b[0;34m(\u001b[0m\u001b[0mrange\u001b[0m\u001b[0;34m(\u001b[0m\u001b[0mnum_resampling\u001b[0m\u001b[0;34m)\u001b[0m\u001b[0;34m)\u001b[0m\u001b[0;34m:\u001b[0m\u001b[0;34m\u001b[0m\u001b[0;34m\u001b[0m\u001b[0m\n\u001b[0;32m---> 18\u001b[0;31m         \u001b[0mids_smpl\u001b[0m \u001b[0;34m=\u001b[0m \u001b[0mnp\u001b[0m\u001b[0;34m.\u001b[0m\u001b[0mrandom\u001b[0m\u001b[0;34m.\u001b[0m\u001b[0mchoice\u001b[0m\u001b[0;34m(\u001b[0m\u001b[0mids\u001b[0m\u001b[0;34m,\u001b[0m \u001b[0msampling_size\u001b[0m\u001b[0;34m,\u001b[0m \u001b[0mreplace\u001b[0m\u001b[0;34m=\u001b[0m\u001b[0;32mFalse\u001b[0m\u001b[0;34m)\u001b[0m\u001b[0;34m\u001b[0m\u001b[0;34m\u001b[0m\u001b[0m\n\u001b[0m\u001b[1;32m     19\u001b[0m         \u001b[0mmX_ampl\u001b[0m\u001b[0;34m[\u001b[0m\u001b[0mi\u001b[0m\u001b[0;34m]\u001b[0m \u001b[0;34m=\u001b[0m \u001b[0mnp\u001b[0m\u001b[0;34m.\u001b[0m\u001b[0mmean\u001b[0m\u001b[0;34m(\u001b[0m\u001b[0mX\u001b[0m\u001b[0;34m[\u001b[0m\u001b[0mids_smpl\u001b[0m\u001b[0;34m]\u001b[0m\u001b[0;34m,\u001b[0m \u001b[0maxis\u001b[0m\u001b[0;34m=\u001b[0m\u001b[0;36m0\u001b[0m\u001b[0;34m)\u001b[0m\u001b[0;34m\u001b[0m\u001b[0;34m\u001b[0m\u001b[0m\n\u001b[1;32m     20\u001b[0m \u001b[0;34m\u001b[0m\u001b[0m\n",
      "\u001b[0;31mKeyboardInterrupt\u001b[0m: "
     ]
    }
   ],
   "source": [
    "# parameters\n",
    "sampling_size = 50\n",
    "num_resampling = 10000\n",
    "\n",
    "# for all selected keys\n",
    "ampl_data = {}\n",
    "for pn in key_sels:\n",
    "    # storage\n",
    "    mX_ampl = np.zeros((num_resampling,2))\n",
    "    \n",
    "    # extract data\n",
    "    x = stats_dict[pn][:,1].copy()\n",
    "    y = np.log10(stats_dict[pn][:,0].copy())\n",
    "    X = np.stack([x,y], axis=1)\n",
    "    ids = np.arange(X.shape[0])\n",
    "    \n",
    "    for i in tqdm(range(num_resampling)):\n",
    "        ids_smpl = np.random.choice(ids, sampling_size, replace=False)\n",
    "        mX_ampl[i] = np.mean(X[ids_smpl], axis=0)\n",
    "    \n",
    "    # store results\n",
    "    ampl_data[pn] = mX_ampl.copy()"
   ]
  },
  {
   "cell_type": "code",
   "execution_count": null,
   "metadata": {},
   "outputs": [],
   "source": [
    "# parameters\n",
    "xlim = (0, 7)\n",
    "#xlim = (2.5, 22.5)\n",
    "ylim = (np.log10(0.3), np.log10(2))\n",
    "bins = 100\n",
    "\n",
    "sampling_size\n",
    "\n",
    "# plot parameters\n",
    "left, width = 0.1, 0.65\n",
    "bottom, height = 0.1, 0.65\n",
    "spacing = 0.005*8\n",
    "\n",
    "# start with a rectangular Figure\n",
    "plt.figure(figsize=(7, 7))\n",
    "\n",
    "# figure setup\n",
    "rect_scatter = [left, bottom, width, height]\n",
    "rect_histx = [left, bottom + height + spacing, width, 0.2]\n",
    "rect_histy = [left + width + spacing, bottom, 0.2, height]\n",
    "\n",
    "ax_scatter = plt.axes(rect_scatter)\n",
    "ax_scatter.set_yticks(np.log10(yticks))\n",
    "ax_scatter.set_yticklabels(yticks_labels)\n",
    "ax_scatter.tick_params(direction='in', top=True, right=True)\n",
    "ax_scatter.set_xlabel('average relative current [%]')\n",
    "ax_scatter.set_ylabel('dwell time [ms]')\n",
    "ax_histx = plt.axes(rect_histx)\n",
    "ax_histx.tick_params(direction='in', labelbottom=False)\n",
    "ax_histy = plt.axes(rect_histy)\n",
    "ax_histy.set_yticks(np.log10(yticks))\n",
    "ax_histy.set_yticklabels(yticks_labels)\n",
    "ax_histy.tick_params(direction='in', labelleft=False)\n",
    "\n",
    "# make log ticks\n",
    "yticks = np.concatenate([np.linspace(0.1, 1.0, 10), np.linspace(2.0, 10.0, 9), np.linspace(20.0, 100.0, 9), np.linspace(200.0, 1000.0, 9), np.linspace(2000.0, 10000.0, 9)])\n",
    "#yticks = np.concatenate([np.linspace(0.1, 1.0, 10), np.linspace(2.0, 10.0, 9), np.linspace(20.0, 100.0, 9), np.linspace(200.0, 1000.0, 9)])\n",
    "yticks_labels = []\n",
    "for t in yticks:\n",
    "    if t in [0.1, 1.0, 10.0, 100.0, 1000.0, 10000.0, 100000.0]:\n",
    "        yticks_labels.append(str(t))\n",
    "    else:\n",
    "        yticks_labels.append('')\n",
    "\n",
    "# scatter plot\n",
    "for pn in key_sels:\n",
    "    X = ampl_data[pn].copy()    \n",
    "    ax_scatter.plot(X[:,0], X[:,1], '.', label=pn, alpha=1.0, ms=1.0)\n",
    "    #ax_scatter.errorbar(np.mean(X[:,0]), np.mean(X[:,1]), xerr=np.std(X[:,0]), yerr=np.std(X[:,1]), fmt='k', label=pn, alpha=1.0)\n",
    "    \n",
    "ax_scatter.set_yticks(np.log10(yticks), yticks_labels)\n",
    "ax_scatter.set_xlim(xlim)\n",
    "ax_scatter.set_ylim(ylim)\n",
    "\n",
    "ax_histx.hist([ampl_data[pn][:,0] for pn in ampl_data], bins=bins, histtype='step')\n",
    "ax_histy.hist([ampl_data[pn][:,1] for pn in ampl_data], bins=bins, histtype='step', orientation='horizontal', label=list(ampl_data))\n",
    "\n",
    "ax_histx.set_xlim(ax_scatter.get_xlim())\n",
    "ax_histy.set_ylim(ax_scatter.get_ylim())\n",
    "\n",
    "ax_histy.legend(loc='upper center', bbox_to_anchor=(1.0, 1.6))\n",
    "ax_histx.set_title(\"sampling size: {}\".format(sampling_size))\n",
    "\n",
    "plt.savefig('graphs/C20-azide_K238A_Urea/8MUrea3MKCl_cores-disabled_voltagedependency_N{}.png'.format(sampling_size), dpi=150, bbox_inches='tight')\n",
    "\n",
    "plt.show()"
   ]
  },
  {
   "cell_type": "code",
   "execution_count": null,
   "metadata": {},
   "outputs": [],
   "source": []
  },
  {
   "cell_type": "markdown",
   "metadata": {},
   "source": [
    "### Points cloud"
   ]
  },
  {
   "cell_type": "raw",
   "metadata": {},
   "source": [
    "# parameters\n",
    "N = (100,1000)\n",
    "xlim = (0.0, 70.0)\n",
    "ylim = (np.log10(0.1), np.log10(2000))\n",
    "\n",
    "for pn in key_sels:\n",
    "    # debug print\n",
    "    print(pn)\n",
    "    \n",
    "    # setup data\n",
    "    x = stats_dict[pn][:,1].copy()\n",
    "    y = np.log10(stats_dict[pn][:,0].copy())\n",
    "    X = np.stack([x,y], axis=1)\n",
    "    \n",
    "    # kde\n",
    "    kde = KernelDensity(bandwidth=0.25)\n",
    "    kde.fit(X)\n",
    "    \n",
    "    # get local probability for each point\n",
    "    p = np.exp(kde.score_samples(X))\n",
    "    \n",
    "    # rescale\n",
    "    p = (p - np.min(p)) / (np.max(p) - np.min(p))\n",
    "    \n",
    "    # meshgrid\n",
    "    xi = np.linspace(xlim[0], xlim[1], N[0])\n",
    "    yi = np.linspace(ylim[0], ylim[1], N[1])\n",
    "    Xi, Yi = np.meshgrid(xi, yi, indexing='ij')\n",
    "    \n",
    "    # apply kde\n",
    "    Z = np.exp(kde.score_samples(np.stack([Xi.ravel(), Yi.ravel()], axis=1)).reshape(N))\n",
    "    \n",
    "    # sort points\n",
    "    ids_srt = np.argsort(p)\n",
    "    x = x[ids_srt]\n",
    "    y = y[ids_srt]\n",
    "    \n",
    "    # make log ticks\n",
    "    yticks = np.concatenate([np.linspace(0.1, 1.0, 10), np.linspace(2.0, 10.0, 9), np.linspace(20.0, 100.0, 9)])\n",
    "    yticks_labels = []\n",
    "    for t in yticks:\n",
    "        if t in [0.1, 1.0, 10.0, 100.0]:\n",
    "            yticks_labels.append(str(t))\n",
    "        else:\n",
    "            yticks_labels.append('')\n",
    "    \n",
    "    # plot\n",
    "    plt.figure(figsize=(7,4))\n",
    "    #plt.contour(Xi, Yi, Z*x.shape[0], 7, alpha=0.7, linewidths=1.0, cmap='nipy_spectral')\n",
    "    plt.scatter(x, y, s=1.0, c=p[ids_srt], cmap='nipy_spectral')\n",
    "    print(np.min(y))\n",
    "    #plt.colorbar()\n",
    "    plt.yticks(np.log10(yticks), yticks_labels)\n",
    "    plt.ylim(ylim)\n",
    "    plt.xlim(xlim)\n",
    "    plt.ylabel('dwell time [ms]')\n",
    "    plt.xlabel('average relative current [%]')\n",
    "    plt.tight_layout()\n",
    "    #plt.savefig('graphs/{}_contour_cloud.pdf'.format(pn), dpi=300)\n",
    "    #plt.savefig('graphs/{}_contour_cloud.png'.format(pn), dpi=300)\n",
    "    plt.show()"
   ]
  },
  {
   "cell_type": "code",
   "execution_count": null,
   "metadata": {},
   "outputs": [],
   "source": []
  },
  {
   "cell_type": "markdown",
   "metadata": {},
   "source": [
    "### Current distribution fit gaussian fit"
   ]
  },
  {
   "cell_type": "code",
   "execution_count": null,
   "metadata": {},
   "outputs": [],
   "source": [
    "def gauss(x, A, mu, sigma):\n",
    "    return np.abs(A) * np.exp(-np.square((x - mu))/np.square(sigma))\n",
    "    \n",
    "def bimodal_gauss(x, A0, mu0, sigma0, A1, mu1, sigma1):\n",
    "    return gauss(x, A0, mu0, sigma0) + gauss(x, A1, mu1, sigma1)\n",
    "    \n",
    "def bimodal_gauss_fitting(I, bandwidth=1.0, N=100):  \n",
    "    # KDE\n",
    "    kde = KernelDensity(bandwidth=bandwidth)\n",
    "    kde.fit(I.reshape(-1,1))\n",
    "\n",
    "    x = np.linspace(np.min(I), np.max(I), N)\n",
    "    y = np.exp(kde.score_samples(x.reshape(-1,1))).ravel()\n",
    "    \n",
    "    # create guess for fit\n",
    "    guess = np.array([np.max(y), x[np.argmax(y)]*0.97, 1.0, np.max(y), x[np.argmax(y)]*1.03, 1.0])\n",
    "\n",
    "    # perform multi gauss fit\n",
    "    popt, pcov = curve_fit(bimodal_gauss, x.astype(np.float64), y.astype(np.float64), p0=guess.astype(np.float64))\n",
    "\n",
    "    # compute gaussian functions\n",
    "    z = gauss(x, popt[0], popt[1], popt[2])\n",
    "    \n",
    "    popt_l = [popt[0:3], popt[3:6]]\n",
    "\n",
    "    return popt_l, x, y, z\n",
    "\n",
    "def plot_gaussian_dist_fit(x, y, popt):\n",
    "    plt.plot(x, y)\n",
    "    plt.plot(x, gauss(x, popt[0], popt[1], popt[2]))\n",
    "    plt.xlabel('current [pA]')\n",
    "    plt.ylabel('density')"
   ]
  },
  {
   "cell_type": "code",
   "execution_count": null,
   "metadata": {},
   "outputs": [],
   "source": [
    "# parameters\n",
    "xlim = (40.0, 95.0)\n",
    "\n",
    "for pn in key_sels:\n",
    "    # extract stats\n",
    "    dwt = stats_dict[pn][:,0].copy()\n",
    "    mI = stats_dict[pn][:,1].copy()\n",
    "    \n",
    "    # gaussian fit\n",
    "    #popt_l, x, y = tsp.multi_gauss_decomposition(mI, thr=0.1, res=0.5, N_lim=5)\n",
    "    popt_l, x, d, y = bimodal_gauss_fitting(mI, bandwidth=0.5, N=100)\n",
    "\n",
    "    # plot\n",
    "    plt.figure(figsize=(7,4))\n",
    "    plt.hist(mI, bins=40, range=xlim, density=True, histtype='step')\n",
    "\n",
    "    #plt.plot(x, y)\n",
    "    s = np.zeros(x.shape)\n",
    "    for popt in popt_l:\n",
    "        dp = gauss(x, popt[0], popt[1], popt[2])\n",
    "        s += dp\n",
    "        plt.plot(x, dp, label=\"μ={:.1f}, σ={:.1f}\".format(popt[1], popt[2]))\n",
    "        \n",
    "    #plt.plot(x, s, label='sum fits')\n",
    "    plt.plot(x, d, 'k', label='kde')\n",
    "    plt.fill_between(x, s, d, color='k', alpha=0.25, label='error')\n",
    "    plt.xlim(xlim)\n",
    "\n",
    "    plt.legend(loc='best')\n",
    "    plt.xlabel('average relative current [%]')\n",
    "    plt.ylabel('density')\n",
    "    plt.title(pn)\n",
    "    plt.tight_layout()\n",
    "    #plt.savefig('graphs/{}_average_relative_current_distribution_with_fit.pdf'.format(pn), dpi=300)\n",
    "    #plt.savefig('graphs/{}_average_relative_current_distribution_with_fit.png'.format(pn), dpi=300)\n",
    "    plt.show()"
   ]
  },
  {
   "cell_type": "markdown",
   "metadata": {},
   "source": [
    "### Dwell time fit"
   ]
  },
  {
   "cell_type": "code",
   "execution_count": null,
   "metadata": {},
   "outputs": [],
   "source": [
    "from scipy.special import gamma\n",
    "\n",
    "def exp_pdf(x, s, a):\n",
    "    return s * a * np.exp(-a * x)\n",
    "\n",
    "\n",
    "def dwt_exp_fit(dwts, rb, rs, xr):\n",
    "    # kde estimation of dwell time log distribution\n",
    "    kde = KernelDensity(bandwidth=rb)\n",
    "    kde.fit(dwts.reshape(-1,1))\n",
    "    x = np.linspace(xr[0], xr[1], int((xr[1]-xr[0])/rs))\n",
    "    y = kde.score_samples(x.reshape(-1,1))\n",
    "\n",
    "    # exp fit\n",
    "    popt, pcov = curve_fit(exp_pdf, x, np.exp(y), [1.0, 1.0])\n",
    "\n",
    "    # pack fit data\n",
    "    dfit = (x,np.exp(y),x,exp_pdf(x, *popt))\n",
    "\n",
    "    # return data\n",
    "    return 1.0/popt[1], np.sqrt(pcov[1][1])/np.square(popt[1]), dfit\n",
    "\n",
    "\n",
    "def gamma_pdf(x, s, a, b):\n",
    "    return s * np.power(x, a-1.0) * np.exp(-b * x) * np.power(b, a) / gamma(a)\n",
    "\n",
    "\n",
    "def dwt_gamma_fit(dwts, rb, rs, xr):\n",
    "    # kde estimation of dwell time log distribution\n",
    "    kde = KernelDensity(bandwidth=rb)\n",
    "    kde.fit(dwts.reshape(-1,1))\n",
    "    x = np.linspace(xr[0], xr[1], int((xr[1]-xr[0])/rs))\n",
    "    y = kde.score_samples(x.reshape(-1,1))\n",
    "\n",
    "    # exp fit\n",
    "    popt, pcov = curve_fit(gamma_pdf, x, np.exp(y), [1.0, 1.5, 1.5])\n",
    "\n",
    "    # pack fit data\n",
    "    dfit = (x,np.exp(y),x,gamma_pdf(x, *popt))\n",
    "\n",
    "    # expectation value\n",
    "    mdwt = popt[1] / popt[2]\n",
    "\n",
    "    sdwt = np.sqrt(pcov[1][1])/popt[2] + popt[1]*np.sqrt(pcov[2][2])/np.square(popt[2])\n",
    "\n",
    "    # return data\n",
    "    return mdwt, sdwt, dfit"
   ]
  },
  {
   "cell_type": "code",
   "execution_count": null,
   "metadata": {},
   "outputs": [],
   "source": [
    "# parameters\n",
    "rb = 0.2\n",
    "rs_l = [0.2]\n",
    "xr_l = [(0.6, 6.0)]\n",
    "xlim_l = [(0.2,10)]\n",
    "\n",
    "#rs_l = [0.2, 0.1, 0.1, 0.1, 0.1, 0.1, 0.2, 0.2, 0.2, 0.2, 0.2, 0.2, 0.2, 0.2, 0.2, 0.2, 0.2, 0.2, 0.2]\n",
    "#xr_l = [(0.5, 17.0), (0.5, 5.0), (0.5, 5.0), (0.5, 5.0), (0.5, 5.0), (0.5, 7.0), (0.5, 10.0), (0.5, 20.0), (0.5, 20.0), (0.5, 20.0), (0.5, 20.0), (0.5, 20.0), (0.5, 20.0), (2, 50.0), (1, 20.0), (1, 20.0), (0.5, 20.0), (0.5, 20.0), (0.5, 20.0)]\n",
    "#xlim_l = [(0.4, 17.0), (0.2, 5.0), (0.2, 5.0), (0.2, 5.0), (0.2, 5.0), (0.2, 7.0), (0.2, 10.0), (0.2, 20.0), (0.2, 20.0), (0.2, 20.0), (0.2, 20.0), (0.2, 20.0), (0.2, 20.0), (2, 50.0), (0.2, 20.0), (0.2, 20.0), (0.2, 20.0), (0.2, 20.0), (0.2, 20.0)]\n",
    "#rs_l = [0.5, 0.5, 0.5, 0.5, 0.1, 0.1, 0.5]\n",
    "#xr_l = [(1.5, 20.0), (1.5, 20.0), (1.5, 20.0), (1.5, 20.0), (0.4, 10.0), (0.4, 10.0), (1.5, 20.0)]\n",
    "#xlim_l = [(1.5, 20.0), (1.5, 20.0), (1.5, 20.0), (1.5, 20.0), (0.4, 10.0), (0.4, 10.0), (1.5, 20.0)]\n",
    "\n",
    "#rs_l = [0.1, 0.5, 0.1, 0.1, 0.1, 0.1, 0.1]\n",
    "#xr_l = [(1.7, 20.0), (1.0, 30), (2.0, 30.0), (1.9, 15.0), (1.0, 20.0), (0.55, 10.0), (0.4, 4.0)]\n",
    "#xlim_l = [(1.6, 12.0), (0.65, 20), (2.0, 25.0), (1.9, 15.0), (1.0, 20.0), (0.48, 4.0), (0.35, 4.0)]\n",
    "\n",
    "for i, pn in enumerate(key_sels):\n",
    "    # get parameters\n",
    "    xr = xr_l[0]\n",
    "    xlim = xlim_l[0]\n",
    "    rs = rs_l[0]\n",
    "    \n",
    "    # get data\n",
    "    dwt = stats_dict[pn][:,0].copy()\n",
    "    \n",
    "    # fit durations\n",
    "    t_fit, st_fit, fit_data = dwt_exp_fit(dwt, rb, rs, xr)\n",
    "    #t_fit, st_fit, fit_data = dwt_gamma_fit(dwt, rb, rs, xr)\n",
    "    # unpack fitted data\n",
    "    x,y,x_fit,y_fit = fit_data\n",
    "    \n",
    "    # plot\n",
    "    plt.figure(figsize=(7,4))\n",
    "    plt.bar(x, y*rb*len(dwt), rs*1.1)\n",
    "    plt.plot(x_fit, y_fit*rb*len(dwt), '-', color=(0.23,0.23,0.23), label='{:.2f} ± {:.2f}ms'.format(t_fit, max(st_fit,0.01)))\n",
    "    plt.legend(loc='best')\n",
    "    print(np.min(y))\n",
    "    plt.xlim(xlim)\n",
    "    plt.ylabel('count')\n",
    "    plt.xlabel('dwell time [ms]')\n",
    "    plt.title(pn)\n",
    "    plt.tight_layout()\n",
    "    #plt.savefig('graphs/{}_dwell_time_distribution_with_fit.pdf'.format(pn), dpi=300)\n",
    "    #plt.savefig('graphs/{}_dwell_time_distribution_with_fit.png'.format(pn), dpi=300)\n",
    "    plt.show()"
   ]
  },
  {
   "cell_type": "code",
   "execution_count": null,
   "metadata": {},
   "outputs": [],
   "source": []
  },
  {
   "cell_type": "code",
   "execution_count": null,
   "metadata": {},
   "outputs": [],
   "source": []
  },
  {
   "cell_type": "code",
   "execution_count": null,
   "metadata": {},
   "outputs": [],
   "source": []
  },
  {
   "cell_type": "code",
   "execution_count": null,
   "metadata": {},
   "outputs": [],
   "source": []
  },
  {
   "cell_type": "code",
   "execution_count": null,
   "metadata": {},
   "outputs": [],
   "source": []
  }
 ],
 "metadata": {
  "kernelspec": {
   "display_name": "tsp",
   "language": "python",
   "name": "tsp"
  },
  "language_info": {
   "codemirror_mode": {
    "name": "ipython",
    "version": 3
   },
   "file_extension": ".py",
   "mimetype": "text/x-python",
   "name": "python",
   "nbconvert_exporter": "python",
   "pygments_lexer": "ipython3",
   "version": "3.8.5"
  }
 },
 "nbformat": 4,
 "nbformat_minor": 4
}
